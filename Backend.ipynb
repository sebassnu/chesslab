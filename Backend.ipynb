{
 "cells": [
  {
   "cell_type": "code",
   "execution_count": 1,
   "metadata": {
    "ExecuteTime": {
     "end_time": "2022-06-29T09:35:48.262608Z",
     "start_time": "2022-06-29T09:35:46.119979Z"
    }
   },
   "outputs": [
    {
     "name": "stdout",
     "output_type": "stream",
     "text": [
      "Requirement already satisfied: pandas in /home/sebas/miniconda3/lib/python3.9/site-packages (1.4.0)\n",
      "Requirement already satisfied: python-dateutil>=2.8.1 in /home/sebas/miniconda3/lib/python3.9/site-packages (from pandas) (2.8.2)\n",
      "Requirement already satisfied: numpy>=1.18.5 in /home/sebas/miniconda3/lib/python3.9/site-packages (from pandas) (1.22.2)\n",
      "Requirement already satisfied: pytz>=2020.1 in /home/sebas/miniconda3/lib/python3.9/site-packages (from pandas) (2021.3)\n",
      "Requirement already satisfied: six>=1.5 in /home/sebas/miniconda3/lib/python3.9/site-packages (from python-dateutil>=2.8.1->pandas) (1.16.0)\n"
     ]
    }
   ],
   "source": [
    "!pip install pandas\n",
    "import pandas as pd\n",
    "import telekinesis as tk"
   ]
  },
  {
   "cell_type": "code",
   "execution_count": 2,
   "metadata": {
    "ExecuteTime": {
     "end_time": "2022-06-29T09:35:48.271639Z",
     "start_time": "2022-06-29T09:35:48.266299Z"
    }
   },
   "outputs": [],
   "source": [
    "columns = 'PuzzleId,FEN,Moves,Rating,RatingDeviation,Popularity,NbPlays,Themes,GameUrl'.split(',')"
   ]
  },
  {
   "cell_type": "code",
   "execution_count": 3,
   "metadata": {
    "ExecuteTime": {
     "end_time": "2022-06-29T09:35:56.596391Z",
     "start_time": "2022-06-29T09:35:49.799259Z"
    }
   },
   "outputs": [],
   "source": [
    "df = pd.read_csv('data.csv', names=columns)"
   ]
  },
  {
   "cell_type": "code",
   "execution_count": 4,
   "metadata": {
    "ExecuteTime": {
     "end_time": "2022-06-29T09:35:57.879636Z",
     "start_time": "2022-06-29T09:35:57.876494Z"
    }
   },
   "outputs": [],
   "source": [
    "dfModify = df"
   ]
  },
  {
   "cell_type": "code",
   "execution_count": 6,
   "metadata": {
    "ExecuteTime": {
     "end_time": "2022-06-29T09:36:19.032769Z",
     "start_time": "2022-06-29T09:36:19.014761Z"
    }
   },
   "outputs": [
    {
     "data": {
      "text/html": [
       "<div>\n",
       "<style scoped>\n",
       "    .dataframe tbody tr th:only-of-type {\n",
       "        vertical-align: middle;\n",
       "    }\n",
       "\n",
       "    .dataframe tbody tr th {\n",
       "        vertical-align: top;\n",
       "    }\n",
       "\n",
       "    .dataframe thead th {\n",
       "        text-align: right;\n",
       "    }\n",
       "</style>\n",
       "<table border=\"1\" class=\"dataframe\">\n",
       "  <thead>\n",
       "    <tr style=\"text-align: right;\">\n",
       "      <th></th>\n",
       "      <th>PuzzleId</th>\n",
       "      <th>FEN</th>\n",
       "      <th>Moves</th>\n",
       "      <th>Rating</th>\n",
       "      <th>RatingDeviation</th>\n",
       "      <th>Popularity</th>\n",
       "      <th>NbPlays</th>\n",
       "      <th>Themes</th>\n",
       "      <th>GameUrl</th>\n",
       "    </tr>\n",
       "  </thead>\n",
       "  <tbody>\n",
       "    <tr>\n",
       "      <th>0</th>\n",
       "      <td>00008</td>\n",
       "      <td>r6k/pp2r2p/4Rp1Q/3p4/8/1N1P2R1/PqP2bPP/7K b - ...</td>\n",
       "      <td>f2g3 e6e7 b2b1 b3c1 b1c1 h6c1</td>\n",
       "      <td>1855</td>\n",
       "      <td>75</td>\n",
       "      <td>97</td>\n",
       "      <td>744</td>\n",
       "      <td>crushing hangingPiece long middlegame</td>\n",
       "      <td>https://lichess.org/787zsVup/black#48</td>\n",
       "    </tr>\n",
       "    <tr>\n",
       "      <th>1</th>\n",
       "      <td>0000D</td>\n",
       "      <td>5rk1/1p3ppp/pq3b2/8/8/1P1Q1N2/P4PPP/3R2K1 w - ...</td>\n",
       "      <td>d3d6 f8d8 d6d8 f6d8</td>\n",
       "      <td>1418</td>\n",
       "      <td>74</td>\n",
       "      <td>97</td>\n",
       "      <td>10742</td>\n",
       "      <td>advantage endgame short</td>\n",
       "      <td>https://lichess.org/F8M8OS71#53</td>\n",
       "    </tr>\n",
       "    <tr>\n",
       "      <th>2</th>\n",
       "      <td>0009B</td>\n",
       "      <td>r2qr1k1/b1p2ppp/pp4n1/P1P1p3/4P1n1/B2P2Pb/3NBP...</td>\n",
       "      <td>b6c5 e2g4 h3g4 d1g4</td>\n",
       "      <td>1102</td>\n",
       "      <td>75</td>\n",
       "      <td>85</td>\n",
       "      <td>504</td>\n",
       "      <td>advantage middlegame short</td>\n",
       "      <td>https://lichess.org/4MWQCxQ6/black#32</td>\n",
       "    </tr>\n",
       "    <tr>\n",
       "      <th>3</th>\n",
       "      <td>000aY</td>\n",
       "      <td>r4rk1/pp3ppp/2n1b3/q1pp2B1/8/P1Q2NP1/1PP1PP1P/...</td>\n",
       "      <td>g5e7 a5c3 b2c3 c6e7</td>\n",
       "      <td>1342</td>\n",
       "      <td>74</td>\n",
       "      <td>89</td>\n",
       "      <td>410</td>\n",
       "      <td>advantage master middlegame short</td>\n",
       "      <td>https://lichess.org/iihZGl6t#29</td>\n",
       "    </tr>\n",
       "    <tr>\n",
       "      <th>4</th>\n",
       "      <td>000hf</td>\n",
       "      <td>r1bqk2r/pp1nbNp1/2p1p2p/8/2BP4/1PN3P1/P3QP1P/3...</td>\n",
       "      <td>e8f7 e2e6 f7f8 e6f7</td>\n",
       "      <td>1588</td>\n",
       "      <td>77</td>\n",
       "      <td>88</td>\n",
       "      <td>446</td>\n",
       "      <td>mate mateIn2 middlegame short</td>\n",
       "      <td>https://lichess.org/71ygsFeE/black#38</td>\n",
       "    </tr>\n",
       "  </tbody>\n",
       "</table>\n",
       "</div>"
      ],
      "text/plain": [
       "  PuzzleId                                                FEN  \\\n",
       "0    00008  r6k/pp2r2p/4Rp1Q/3p4/8/1N1P2R1/PqP2bPP/7K b - ...   \n",
       "1    0000D  5rk1/1p3ppp/pq3b2/8/8/1P1Q1N2/P4PPP/3R2K1 w - ...   \n",
       "2    0009B  r2qr1k1/b1p2ppp/pp4n1/P1P1p3/4P1n1/B2P2Pb/3NBP...   \n",
       "3    000aY  r4rk1/pp3ppp/2n1b3/q1pp2B1/8/P1Q2NP1/1PP1PP1P/...   \n",
       "4    000hf  r1bqk2r/pp1nbNp1/2p1p2p/8/2BP4/1PN3P1/P3QP1P/3...   \n",
       "\n",
       "                           Moves  Rating  RatingDeviation  Popularity  \\\n",
       "0  f2g3 e6e7 b2b1 b3c1 b1c1 h6c1    1855               75          97   \n",
       "1            d3d6 f8d8 d6d8 f6d8    1418               74          97   \n",
       "2            b6c5 e2g4 h3g4 d1g4    1102               75          85   \n",
       "3            g5e7 a5c3 b2c3 c6e7    1342               74          89   \n",
       "4            e8f7 e2e6 f7f8 e6f7    1588               77          88   \n",
       "\n",
       "   NbPlays                                 Themes  \\\n",
       "0      744  crushing hangingPiece long middlegame   \n",
       "1    10742                advantage endgame short   \n",
       "2      504             advantage middlegame short   \n",
       "3      410      advantage master middlegame short   \n",
       "4      446          mate mateIn2 middlegame short   \n",
       "\n",
       "                                 GameUrl  \n",
       "0  https://lichess.org/787zsVup/black#48  \n",
       "1        https://lichess.org/F8M8OS71#53  \n",
       "2  https://lichess.org/4MWQCxQ6/black#32  \n",
       "3        https://lichess.org/iihZGl6t#29  \n",
       "4  https://lichess.org/71ygsFeE/black#38  "
      ]
     },
     "execution_count": 6,
     "metadata": {},
     "output_type": "execute_result"
    }
   ],
   "source": [
    "dfModify.head()"
   ]
  },
  {
   "cell_type": "code",
   "execution_count": 5,
   "metadata": {
    "ExecuteTime": {
     "end_time": "2022-05-01T10:03:23.762300Z",
     "start_time": "2022-05-01T10:03:23.759879Z"
    }
   },
   "outputs": [],
   "source": [
    "def categorizer (number):\n",
    "    aux = round(number/100)-4\n",
    "    return aux"
   ]
  },
  {
   "cell_type": "code",
   "execution_count": 6,
   "metadata": {
    "ExecuteTime": {
     "end_time": "2022-05-01T10:03:23.810945Z",
     "start_time": "2022-05-01T10:03:23.769126Z"
    },
    "collapsed": true
   },
   "outputs": [],
   "source": [
    "dfModify['Category'] = categorizer (dfModify['Rating'])"
   ]
  },
  {
   "cell_type": "code",
   "execution_count": 13,
   "metadata": {
    "ExecuteTime": {
     "end_time": "2022-05-01T10:55:20.829081Z",
     "start_time": "2022-05-01T10:55:20.825372Z"
    }
   },
   "outputs": [],
   "source": [
    "import pickle"
   ]
  },
  {
   "cell_type": "code",
   "execution_count": 15,
   "metadata": {
    "ExecuteTime": {
     "end_time": "2022-05-01T10:56:16.948619Z",
     "start_time": "2022-05-01T10:56:06.750965Z"
    }
   },
   "outputs": [
    {
     "name": "stdout",
     "output_type": "stream",
     "text": [
      "                                             \n",
      "                                             \n",
      "    █▀▀▀▀▀█ ██▀  ▄  █▀▄  █ █▄   ▀ █▀▀▀▀▀█    \n",
      "    █ ███ █ ▄▄▄ ▀▄ █   ▀  ▄▀███   █ ███ █    \n",
      "    █ ▀▀▀ █  ▄▀   ▄  ▄██▄▀  ▀█▀▀█ █ ▀▀▀ █    \n",
      "    ▀▀▀▀▀▀▀ █▄▀ █▄▀▄█ ▀▄▀ █ █ █ █ ▀▀▀▀▀▀▀    \n",
      "    █ █▀▄█▀█  ▀▄▄▄▄█ ▄█▀▄ ▀█ ▄█▀█▄▀▄ █ █▀    \n",
      "    ▄█▀▀█▄▀▄▀▄▀▄█ █ █ █▀█ █▀▄██▄▀▄▄ ▀██      \n",
      "    ▄ ██▄ ▀ ▄ █▄▀█▀███ █ ▄▀ ▀▀██▄▀████▀██    \n",
      "    █▄▀ ▄ ▀ █▄▀▄▀  ▄   ▀▀▀ ▄█ █▄▄ █▄█ ▀█▄    \n",
      "    ▀▀ ▄ ▀▀▄▀▀▄▄█ ▄  █▄█ ▄███▀ ▄▀▄▄▀ █▀▄█    \n",
      "    ▄██▀▄█▀█ ▀█▄ ▄▀▄▄▄█ █ █▄▀  ▀█▀█▀▄█▀█▀    \n",
      "    █  ▄ █▀▀▀▄█▄▀▀ ▀████▄█▄█▀▄▀ ██ ▀▀█ ▄▀    \n",
      "    ██▀ ▀▀▀███  ▀▄█  ▄▀    ▀▀▄▀  ▄ ▀▄▄▄█     \n",
      "    ▀ █▄▀█▀██ █▀█▄▄▀▀    ▀▄▀▄█▀██▀█▄█ ███    \n",
      "    ▄▀█▄▀▀▀▄▀▄▄ █▄█▄ ▀█▄▄▄▄ ▀ ▀▄██ ▄   ▀▄    \n",
      "        ▀ ▀▀█▀███▀▄▄▀ ▄▀▄███▄█ ▄█▀▀▀█▀█ ▄    \n",
      "    █▀▀▀▀▀█ ██▀  ███▀▄█▄▀▄▀    ▄█ ▀ █ ▀█▀    \n",
      "    █ ███ █ ▄█▄ ▀ █▄█▄  ▀▄ ▄█ ▀▄█▀█▀█▀ ▀▄    \n",
      "    █ ▀▀▀ █ ▀█ ██▀▄█  █▄  ██ ▄▄█▀▀█▄█ ▄      \n",
      "    ▀▀▀▀▀▀▀ ▀▀  ▀▀▀ ▀▀     ▀ ▀▀▀  ▀ ▀ ▀▀▀    \n",
      "                                             \n",
      "                                             \n",
      "\n",
      "Authenticate with Github: https://www.telekinesis.cloud/sign_in?state=cnzt5atxux4uwlhwhqj5xtgm\n",
      "Your public key is: E+6TwTEyqe5k/ex1am9vBpzqHmCtnByTRNPsmyxG/qQxSlkXMVostFs1ki81oX+dSBpVOxDs9swbZijB7uoxfw==\n"
     ]
    }
   ],
   "source": [
    "user = await tk.authenticate('wss://telekinesis.cloud', 'user.pem')"
   ]
  },
  {
   "cell_type": "code",
   "execution_count": 26,
   "metadata": {
    "ExecuteTime": {
     "end_time": "2022-05-01T11:14:08.808512Z",
     "start_time": "2022-05-01T11:14:08.627057Z"
    }
   },
   "outputs": [],
   "source": [
    "dfSample = dfModify.sample(40000)"
   ]
  },
  {
   "cell_type": "code",
   "execution_count": 31,
   "metadata": {
    "ExecuteTime": {
     "end_time": "2022-05-01T11:15:43.877510Z",
     "start_time": "2022-05-01T11:15:27.523392Z"
    },
    "scrolled": false
   },
   "outputs": [
    {
     "data": {
      "text/plain": [
       "\u001b[92m≈\u001b[0m <telekinesis_backend.account.Directory object at 0x7f8c86baa8e0>"
      ]
     },
     "execution_count": 31,
     "metadata": {},
     "output_type": "execute_result"
    }
   ],
   "source": [
    "await user.data.put(pickle.dumps(dfSample), 'chess_pkl')"
   ]
  },
  {
   "cell_type": "code",
   "execution_count": 23,
   "metadata": {
    "ExecuteTime": {
     "end_time": "2022-05-01T11:09:31.649460Z",
     "start_time": "2022-05-01T11:09:31.645695Z"
    }
   },
   "outputs": [],
   "source": [
    "#puzzle = df.sample(1)[['FEN', 'Moves']].iloc[0]\n"
   ]
  },
  {
   "cell_type": "code",
   "execution_count": 32,
   "metadata": {
    "ExecuteTime": {
     "end_time": "2022-05-01T11:16:45.101800Z",
     "start_time": "2022-05-01T11:16:45.098247Z"
    }
   },
   "outputs": [],
   "source": [
    "user._register_magic(get_ipython())"
   ]
  },
  {
   "cell_type": "code",
   "execution_count": 55,
   "metadata": {
    "ExecuteTime": {
     "end_time": "2022-05-01T11:28:53.801159Z",
     "start_time": "2022-05-01T11:28:53.794876Z"
    }
   },
   "outputs": [
    {
     "name": "stderr",
     "output_type": "stream",
     "text": [
      "E+6T Connection.listen\n",
      "Traceback (most recent call last):\n",
      "  File \"/home/sebas/miniconda3/lib/python3.9/site-packages/websockets/legacy/protocol.py\", line 944, in transfer_data\n",
      "    message = await self.read_message()\n",
      "  File \"/home/sebas/miniconda3/lib/python3.9/site-packages/websockets/legacy/protocol.py\", line 1013, in read_message\n",
      "    frame = await self.read_data_frame(max_size=self.max_size)\n",
      "  File \"/home/sebas/miniconda3/lib/python3.9/site-packages/websockets/legacy/protocol.py\", line 1089, in read_data_frame\n",
      "    frame = await self.read_frame(max_size)\n",
      "  File \"/home/sebas/miniconda3/lib/python3.9/site-packages/websockets/legacy/protocol.py\", line 1144, in read_frame\n",
      "    frame = await Frame.read(\n",
      "  File \"/home/sebas/miniconda3/lib/python3.9/site-packages/websockets/legacy/framing.py\", line 70, in read\n",
      "    data = await reader(2)\n",
      "  File \"/home/sebas/miniconda3/lib/python3.9/asyncio/streams.py\", line 723, in readexactly\n",
      "    await self._wait_for_data('readexactly')\n",
      "  File \"/home/sebas/miniconda3/lib/python3.9/asyncio/streams.py\", line 517, in _wait_for_data\n",
      "    await self._waiter\n",
      "  File \"/home/sebas/miniconda3/lib/python3.9/asyncio/selector_events.py\", line 856, in _read_ready__data_received\n",
      "    data = self._sock.recv(self.max_size)\n",
      "ConnectionResetError: [Errno 104] Connection reset by peer\n",
      "\n",
      "The above exception was the direct cause of the following exception:\n",
      "\n",
      "Traceback (most recent call last):\n",
      "  File \"/home/sebas/Desktop/telekinesis/python/telekinesis/client.py\", line 188, in listen\n",
      "    await self.recv()\n",
      "  File \"/home/sebas/Desktop/telekinesis/python/telekinesis/client.py\", line 208, in recv\n",
      "    message = await self.websocket.recv()\n",
      "  File \"/home/sebas/miniconda3/lib/python3.9/site-packages/websockets/legacy/protocol.py\", line 552, in recv\n",
      "    await self.ensure_open()\n",
      "  File \"/home/sebas/miniconda3/lib/python3.9/site-packages/websockets/legacy/protocol.py\", line 920, in ensure_open\n",
      "    raise self.connection_closed_exc()\n",
      "websockets.exceptions.ConnectionClosedError: no close frame received or sent\n",
      "Rzzh Connection.listen\n",
      "Traceback (most recent call last):\n",
      "  File \"/home/sebas/miniconda3/lib/python3.9/site-packages/websockets/legacy/protocol.py\", line 944, in transfer_data\n",
      "    message = await self.read_message()\n",
      "  File \"/home/sebas/miniconda3/lib/python3.9/site-packages/websockets/legacy/protocol.py\", line 1013, in read_message\n",
      "    frame = await self.read_data_frame(max_size=self.max_size)\n",
      "  File \"/home/sebas/miniconda3/lib/python3.9/site-packages/websockets/legacy/protocol.py\", line 1089, in read_data_frame\n",
      "    frame = await self.read_frame(max_size)\n",
      "  File \"/home/sebas/miniconda3/lib/python3.9/site-packages/websockets/legacy/protocol.py\", line 1144, in read_frame\n",
      "    frame = await Frame.read(\n",
      "  File \"/home/sebas/miniconda3/lib/python3.9/site-packages/websockets/legacy/framing.py\", line 70, in read\n",
      "    data = await reader(2)\n",
      "  File \"/home/sebas/miniconda3/lib/python3.9/asyncio/streams.py\", line 723, in readexactly\n",
      "    await self._wait_for_data('readexactly')\n",
      "  File \"/home/sebas/miniconda3/lib/python3.9/asyncio/streams.py\", line 517, in _wait_for_data\n",
      "    await self._waiter\n",
      "  File \"/home/sebas/miniconda3/lib/python3.9/asyncio/selector_events.py\", line 856, in _read_ready__data_received\n",
      "    data = self._sock.recv(self.max_size)\n",
      "ConnectionResetError: [Errno 104] Connection reset by peer\n",
      "\n",
      "The above exception was the direct cause of the following exception:\n",
      "\n",
      "Traceback (most recent call last):\n",
      "  File \"/home/sebas/Desktop/telekinesis/python/telekinesis/client.py\", line 188, in listen\n",
      "    await self.recv()\n",
      "  File \"/home/sebas/Desktop/telekinesis/python/telekinesis/client.py\", line 208, in recv\n",
      "    message = await self.websocket.recv()\n",
      "  File \"/home/sebas/miniconda3/lib/python3.9/site-packages/websockets/legacy/protocol.py\", line 552, in recv\n",
      "    await self.ensure_open()\n",
      "  File \"/home/sebas/miniconda3/lib/python3.9/site-packages/websockets/legacy/protocol.py\", line 920, in ensure_open\n",
      "    raise self.connection_closed_exc()\n",
      "websockets.exceptions.ConnectionClosedError: no close frame received or sent\n",
      "E+6T Connection.listen\n",
      "Traceback (most recent call last):\n",
      "  File \"/home/sebas/Desktop/telekinesis/python/telekinesis/client.py\", line 186, in listen\n",
      "    await self._connect()\n",
      "  File \"/home/sebas/Desktop/telekinesis/python/telekinesis/client.py\", line 56, in _connect\n",
      "    self.websocket = await websockets.connect(self.url)\n",
      "  File \"/home/sebas/miniconda3/lib/python3.9/site-packages/websockets/legacy/client.py\", line 650, in __await_impl_timeout__\n",
      "    return await asyncio.wait_for(self.__await_impl__(), self.open_timeout)\n",
      "  File \"/home/sebas/miniconda3/lib/python3.9/asyncio/tasks.py\", line 481, in wait_for\n",
      "    return fut.result()\n",
      "  File \"/home/sebas/miniconda3/lib/python3.9/site-packages/websockets/legacy/client.py\", line 654, in __await_impl__\n",
      "    transport, protocol = await self._create_connection()\n",
      "  File \"/home/sebas/miniconda3/lib/python3.9/asyncio/base_events.py\", line 1017, in create_connection\n",
      "    infos = await self._ensure_resolved(\n",
      "  File \"/home/sebas/miniconda3/lib/python3.9/asyncio/base_events.py\", line 1396, in _ensure_resolved\n",
      "    return await loop.getaddrinfo(host, port, family=family, type=type,\n",
      "  File \"/home/sebas/miniconda3/lib/python3.9/asyncio/base_events.py\", line 856, in getaddrinfo\n",
      "    return await self.run_in_executor(\n",
      "  File \"/home/sebas/miniconda3/lib/python3.9/concurrent/futures/thread.py\", line 52, in run\n",
      "    result = self.fn(*self.args, **self.kwargs)\n",
      "  File \"/home/sebas/miniconda3/lib/python3.9/socket.py\", line 953, in getaddrinfo\n",
      "    for res in _socket.getaddrinfo(host, port, family, type, proto, flags):\n",
      "socket.gaierror: [Errno -3] Temporary failure in name resolution\n",
      "Rzzh Connection.listen\n",
      "Traceback (most recent call last):\n",
      "  File \"/home/sebas/Desktop/telekinesis/python/telekinesis/client.py\", line 186, in listen\n",
      "    await self._connect()\n",
      "  File \"/home/sebas/Desktop/telekinesis/python/telekinesis/client.py\", line 56, in _connect\n",
      "    self.websocket = await websockets.connect(self.url)\n",
      "  File \"/home/sebas/miniconda3/lib/python3.9/site-packages/websockets/legacy/client.py\", line 650, in __await_impl_timeout__\n",
      "    return await asyncio.wait_for(self.__await_impl__(), self.open_timeout)\n",
      "  File \"/home/sebas/miniconda3/lib/python3.9/asyncio/tasks.py\", line 481, in wait_for\n",
      "    return fut.result()\n",
      "  File \"/home/sebas/miniconda3/lib/python3.9/site-packages/websockets/legacy/client.py\", line 654, in __await_impl__\n",
      "    transport, protocol = await self._create_connection()\n",
      "  File \"/home/sebas/miniconda3/lib/python3.9/asyncio/base_events.py\", line 1017, in create_connection\n",
      "    infos = await self._ensure_resolved(\n",
      "  File \"/home/sebas/miniconda3/lib/python3.9/asyncio/base_events.py\", line 1396, in _ensure_resolved\n",
      "    return await loop.getaddrinfo(host, port, family=family, type=type,\n",
      "  File \"/home/sebas/miniconda3/lib/python3.9/asyncio/base_events.py\", line 856, in getaddrinfo\n",
      "    return await self.run_in_executor(\n",
      "  File \"/home/sebas/miniconda3/lib/python3.9/concurrent/futures/thread.py\", line 52, in run\n",
      "    result = self.fn(*self.args, **self.kwargs)\n",
      "  File \"/home/sebas/miniconda3/lib/python3.9/socket.py\", line 953, in getaddrinfo\n",
      "    for res in _socket.getaddrinfo(host, port, family, type, proto, flags):\n",
      "socket.gaierror: [Errno -3] Temporary failure in name resolution\n",
      "E+6T Connection.listen\n",
      "Traceback (most recent call last):\n",
      "  File \"/home/sebas/Desktop/telekinesis/python/telekinesis/client.py\", line 186, in listen\n",
      "    await self._connect()\n",
      "  File \"/home/sebas/Desktop/telekinesis/python/telekinesis/client.py\", line 56, in _connect\n",
      "    self.websocket = await websockets.connect(self.url)\n",
      "  File \"/home/sebas/miniconda3/lib/python3.9/site-packages/websockets/legacy/client.py\", line 650, in __await_impl_timeout__\n",
      "    return await asyncio.wait_for(self.__await_impl__(), self.open_timeout)\n",
      "  File \"/home/sebas/miniconda3/lib/python3.9/asyncio/tasks.py\", line 481, in wait_for\n",
      "    return fut.result()\n",
      "  File \"/home/sebas/miniconda3/lib/python3.9/site-packages/websockets/legacy/client.py\", line 654, in __await_impl__\n",
      "    transport, protocol = await self._create_connection()\n",
      "  File \"/home/sebas/miniconda3/lib/python3.9/asyncio/base_events.py\", line 1017, in create_connection\n",
      "    infos = await self._ensure_resolved(\n",
      "  File \"/home/sebas/miniconda3/lib/python3.9/asyncio/base_events.py\", line 1396, in _ensure_resolved\n",
      "    return await loop.getaddrinfo(host, port, family=family, type=type,\n",
      "  File \"/home/sebas/miniconda3/lib/python3.9/asyncio/base_events.py\", line 856, in getaddrinfo\n",
      "    return await self.run_in_executor(\n",
      "  File \"/home/sebas/miniconda3/lib/python3.9/concurrent/futures/thread.py\", line 52, in run\n",
      "    result = self.fn(*self.args, **self.kwargs)\n",
      "  File \"/home/sebas/miniconda3/lib/python3.9/socket.py\", line 953, in getaddrinfo\n",
      "    for res in _socket.getaddrinfo(host, port, family, type, proto, flags):\n",
      "socket.gaierror: [Errno -3] Temporary failure in name resolution\n"
     ]
    },
    {
     "name": "stderr",
     "output_type": "stream",
     "text": [
      "Rzzh Connection.listen\n",
      "Traceback (most recent call last):\n",
      "  File \"/home/sebas/Desktop/telekinesis/python/telekinesis/client.py\", line 186, in listen\n",
      "    await self._connect()\n",
      "  File \"/home/sebas/Desktop/telekinesis/python/telekinesis/client.py\", line 56, in _connect\n",
      "    self.websocket = await websockets.connect(self.url)\n",
      "  File \"/home/sebas/miniconda3/lib/python3.9/site-packages/websockets/legacy/client.py\", line 650, in __await_impl_timeout__\n",
      "    return await asyncio.wait_for(self.__await_impl__(), self.open_timeout)\n",
      "  File \"/home/sebas/miniconda3/lib/python3.9/asyncio/tasks.py\", line 481, in wait_for\n",
      "    return fut.result()\n",
      "  File \"/home/sebas/miniconda3/lib/python3.9/site-packages/websockets/legacy/client.py\", line 654, in __await_impl__\n",
      "    transport, protocol = await self._create_connection()\n",
      "  File \"/home/sebas/miniconda3/lib/python3.9/asyncio/base_events.py\", line 1017, in create_connection\n",
      "    infos = await self._ensure_resolved(\n",
      "  File \"/home/sebas/miniconda3/lib/python3.9/asyncio/base_events.py\", line 1396, in _ensure_resolved\n",
      "    return await loop.getaddrinfo(host, port, family=family, type=type,\n",
      "  File \"/home/sebas/miniconda3/lib/python3.9/asyncio/base_events.py\", line 856, in getaddrinfo\n",
      "    return await self.run_in_executor(\n",
      "  File \"/home/sebas/miniconda3/lib/python3.9/concurrent/futures/thread.py\", line 52, in run\n",
      "    result = self.fn(*self.args, **self.kwargs)\n",
      "  File \"/home/sebas/miniconda3/lib/python3.9/socket.py\", line 953, in getaddrinfo\n",
      "    for res in _socket.getaddrinfo(host, port, family, type, proto, flags):\n",
      "socket.gaierror: [Errno -3] Temporary failure in name resolution\n",
      "E+6T Connection.listen\n",
      "Traceback (most recent call last):\n",
      "  File \"/home/sebas/Desktop/telekinesis/python/telekinesis/client.py\", line 186, in listen\n",
      "    await self._connect()\n",
      "  File \"/home/sebas/Desktop/telekinesis/python/telekinesis/client.py\", line 56, in _connect\n",
      "    self.websocket = await websockets.connect(self.url)\n",
      "  File \"/home/sebas/miniconda3/lib/python3.9/site-packages/websockets/legacy/client.py\", line 650, in __await_impl_timeout__\n",
      "    return await asyncio.wait_for(self.__await_impl__(), self.open_timeout)\n",
      "  File \"/home/sebas/miniconda3/lib/python3.9/asyncio/tasks.py\", line 481, in wait_for\n",
      "    return fut.result()\n",
      "  File \"/home/sebas/miniconda3/lib/python3.9/site-packages/websockets/legacy/client.py\", line 654, in __await_impl__\n",
      "    transport, protocol = await self._create_connection()\n",
      "  File \"/home/sebas/miniconda3/lib/python3.9/asyncio/base_events.py\", line 1017, in create_connection\n",
      "    infos = await self._ensure_resolved(\n",
      "  File \"/home/sebas/miniconda3/lib/python3.9/asyncio/base_events.py\", line 1396, in _ensure_resolved\n",
      "    return await loop.getaddrinfo(host, port, family=family, type=type,\n",
      "  File \"/home/sebas/miniconda3/lib/python3.9/asyncio/base_events.py\", line 856, in getaddrinfo\n",
      "    return await self.run_in_executor(\n",
      "  File \"/home/sebas/miniconda3/lib/python3.9/concurrent/futures/thread.py\", line 52, in run\n",
      "    result = self.fn(*self.args, **self.kwargs)\n",
      "  File \"/home/sebas/miniconda3/lib/python3.9/socket.py\", line 953, in getaddrinfo\n",
      "    for res in _socket.getaddrinfo(host, port, family, type, proto, flags):\n",
      "socket.gaierror: [Errno -3] Temporary failure in name resolution\n",
      "Rzzh Connection.listen\n",
      "Traceback (most recent call last):\n",
      "  File \"/home/sebas/Desktop/telekinesis/python/telekinesis/client.py\", line 186, in listen\n",
      "    await self._connect()\n",
      "  File \"/home/sebas/Desktop/telekinesis/python/telekinesis/client.py\", line 56, in _connect\n",
      "    self.websocket = await websockets.connect(self.url)\n",
      "  File \"/home/sebas/miniconda3/lib/python3.9/site-packages/websockets/legacy/client.py\", line 650, in __await_impl_timeout__\n",
      "    return await asyncio.wait_for(self.__await_impl__(), self.open_timeout)\n",
      "  File \"/home/sebas/miniconda3/lib/python3.9/asyncio/tasks.py\", line 481, in wait_for\n",
      "    return fut.result()\n",
      "  File \"/home/sebas/miniconda3/lib/python3.9/site-packages/websockets/legacy/client.py\", line 654, in __await_impl__\n",
      "    transport, protocol = await self._create_connection()\n",
      "  File \"/home/sebas/miniconda3/lib/python3.9/asyncio/base_events.py\", line 1017, in create_connection\n",
      "    infos = await self._ensure_resolved(\n",
      "  File \"/home/sebas/miniconda3/lib/python3.9/asyncio/base_events.py\", line 1396, in _ensure_resolved\n",
      "    return await loop.getaddrinfo(host, port, family=family, type=type,\n",
      "  File \"/home/sebas/miniconda3/lib/python3.9/asyncio/base_events.py\", line 856, in getaddrinfo\n",
      "    return await self.run_in_executor(\n",
      "  File \"/home/sebas/miniconda3/lib/python3.9/concurrent/futures/thread.py\", line 52, in run\n",
      "    result = self.fn(*self.args, **self.kwargs)\n",
      "  File \"/home/sebas/miniconda3/lib/python3.9/socket.py\", line 953, in getaddrinfo\n",
      "    for res in _socket.getaddrinfo(host, port, family, type, proto, flags):\n",
      "socket.gaierror: [Errno -3] Temporary failure in name resolution\n",
      "E+6T Connection.listen\n",
      "Traceback (most recent call last):\n",
      "  File \"/home/sebas/Desktop/telekinesis/python/telekinesis/client.py\", line 186, in listen\n",
      "    await self._connect()\n",
      "  File \"/home/sebas/Desktop/telekinesis/python/telekinesis/client.py\", line 56, in _connect\n",
      "    self.websocket = await websockets.connect(self.url)\n",
      "  File \"/home/sebas/miniconda3/lib/python3.9/site-packages/websockets/legacy/client.py\", line 650, in __await_impl_timeout__\n",
      "    return await asyncio.wait_for(self.__await_impl__(), self.open_timeout)\n",
      "  File \"/home/sebas/miniconda3/lib/python3.9/asyncio/tasks.py\", line 481, in wait_for\n",
      "    return fut.result()\n",
      "  File \"/home/sebas/miniconda3/lib/python3.9/site-packages/websockets/legacy/client.py\", line 654, in __await_impl__\n",
      "    transport, protocol = await self._create_connection()\n",
      "  File \"/home/sebas/miniconda3/lib/python3.9/asyncio/base_events.py\", line 1017, in create_connection\n",
      "    infos = await self._ensure_resolved(\n",
      "  File \"/home/sebas/miniconda3/lib/python3.9/asyncio/base_events.py\", line 1396, in _ensure_resolved\n",
      "    return await loop.getaddrinfo(host, port, family=family, type=type,\n",
      "  File \"/home/sebas/miniconda3/lib/python3.9/asyncio/base_events.py\", line 856, in getaddrinfo\n",
      "    return await self.run_in_executor(\n",
      "  File \"/home/sebas/miniconda3/lib/python3.9/concurrent/futures/thread.py\", line 52, in run\n",
      "    result = self.fn(*self.args, **self.kwargs)\n",
      "  File \"/home/sebas/miniconda3/lib/python3.9/socket.py\", line 953, in getaddrinfo\n",
      "    for res in _socket.getaddrinfo(host, port, family, type, proto, flags):\n",
      "socket.gaierror: [Errno -3] Temporary failure in name resolution\n",
      "Rzzh Connection.listen\n",
      "Traceback (most recent call last):\n",
      "  File \"/home/sebas/Desktop/telekinesis/python/telekinesis/client.py\", line 186, in listen\n",
      "    await self._connect()\n",
      "  File \"/home/sebas/Desktop/telekinesis/python/telekinesis/client.py\", line 56, in _connect\n",
      "    self.websocket = await websockets.connect(self.url)\n",
      "  File \"/home/sebas/miniconda3/lib/python3.9/site-packages/websockets/legacy/client.py\", line 650, in __await_impl_timeout__\n",
      "    return await asyncio.wait_for(self.__await_impl__(), self.open_timeout)\n",
      "  File \"/home/sebas/miniconda3/lib/python3.9/asyncio/tasks.py\", line 481, in wait_for\n",
      "    return fut.result()\n",
      "  File \"/home/sebas/miniconda3/lib/python3.9/site-packages/websockets/legacy/client.py\", line 654, in __await_impl__\n",
      "    transport, protocol = await self._create_connection()\n",
      "  File \"/home/sebas/miniconda3/lib/python3.9/asyncio/base_events.py\", line 1017, in create_connection\n",
      "    infos = await self._ensure_resolved(\n",
      "  File \"/home/sebas/miniconda3/lib/python3.9/asyncio/base_events.py\", line 1396, in _ensure_resolved\n",
      "    return await loop.getaddrinfo(host, port, family=family, type=type,\n",
      "  File \"/home/sebas/miniconda3/lib/python3.9/asyncio/base_events.py\", line 856, in getaddrinfo\n",
      "    return await self.run_in_executor(\n",
      "  File \"/home/sebas/miniconda3/lib/python3.9/concurrent/futures/thread.py\", line 52, in run\n",
      "    result = self.fn(*self.args, **self.kwargs)\n",
      "  File \"/home/sebas/miniconda3/lib/python3.9/socket.py\", line 953, in getaddrinfo\n",
      "    for res in _socket.getaddrinfo(host, port, family, type, proto, flags):\n",
      "socket.gaierror: [Errno -3] Temporary failure in name resolution\n"
     ]
    }
   ],
   "source": [
    "%%user .code.put('chess_puzzles', 'pandas', entrypoint='Game', data_vars={'pkl': 'chess_pkl'})\n",
    "import pickle\n",
    "from functools import partial\n",
    "\n",
    "dfModify = pickle.loads(pkl)\n",
    "\n",
    "class Game:\n",
    "    def __init__(self):\n",
    "        self.category_counter = 2\n",
    "        self.lives = 3\n",
    "        print(\"init\")\n",
    "        \n",
    "\n",
    "    def test_answer(self, moves,submission):\n",
    "        length = len(submission)\n",
    "        print(\"answer:\",moves,\"submitted\",submission)\n",
    "        if moves[0:length]==submission:\n",
    "            if length == len(moves):\n",
    "                self.category_counter = self.category_counter + 1\n",
    "                print(\"finished\", \"lives:\",self.lives,\"count:\",self.category_counter)\n",
    "                return \"finished\", \"\" , self.lives , self.category_counter\n",
    "            else:\n",
    "                print(\"correct\")\n",
    "                aux = moves[length:length+4]\n",
    "                aux = aux[:2] + '-' + aux[2:]\n",
    "                return \"correct\", aux , self.lives , self.category_counter\n",
    "        else:\n",
    "            self.lives = self.lives - 1\n",
    "            if self.lives == 0 :\n",
    "                print(\"lost\")\n",
    "                self.lives = 3\n",
    "                self.category_counter = 2\n",
    "                return \"lost\", \"\" , self.lives , self.category_counter\n",
    "            print(\"incorrect\")\n",
    "            return \"incorrect\", \"\" , self.lives , self.category_counter\n",
    "\n",
    "    \n",
    "    def get_puzzle(self):\n",
    "        puzzle = dfModify[dfModify.Category==self.category_counter].sample(1)[['FEN', 'Moves','Rating']].iloc[0]\n",
    "        puzzle.Moves = puzzle.Moves.replace(' ','')\n",
    "        #takes spaces from the string\n",
    "        first_move = puzzle.Moves[0:4]\n",
    "        first_move = first_move[:2] + '-' + first_move[2:]\n",
    "        #prepares the first move\n",
    "        print(\"puzzle\",puzzle.FEN,\"answer\", puzzle.Moves,\"rating\",puzzle.Rating,\"category\", self.category_counter)\n",
    "        return puzzle.FEN, puzzle.Rating, partial(self.test_answer,puzzle.Moves),first_move"
   ]
  },
  {
   "cell_type": "code",
   "execution_count": 7,
   "metadata": {
    "ExecuteTime": {
     "end_time": "2022-05-01T10:03:23.920907Z",
     "start_time": "2022-05-01T10:03:23.813938Z"
    },
    "scrolled": true
   },
   "outputs": [],
   "source": [
    "broker = await tk.Broker().serve()"
   ]
  },
  {
   "cell_type": "code",
   "execution_count": 8,
   "metadata": {
    "ExecuteTime": {
     "end_time": "2022-05-01T10:03:23.933034Z",
     "start_time": "2022-05-01T10:03:23.926855Z"
    }
   },
   "outputs": [],
   "source": [
    "from functools import partial"
   ]
  },
  {
   "cell_type": "code",
   "execution_count": 9,
   "metadata": {
    "ExecuteTime": {
     "end_time": "2022-05-01T10:03:23.944438Z",
     "start_time": "2022-05-01T10:03:23.936483Z"
    }
   },
   "outputs": [],
   "source": [
    "f = lambda x, y: x+y"
   ]
  },
  {
   "cell_type": "code",
   "execution_count": 10,
   "metadata": {
    "ExecuteTime": {
     "end_time": "2022-05-01T10:03:24.596466Z",
     "start_time": "2022-05-01T10:03:24.584820Z"
    }
   },
   "outputs": [],
   "source": [
    "class Game:\n",
    "    def __init__(self):\n",
    "        self.category_counter = 2\n",
    "        self.lives = 3\n",
    "        print(\"init\")\n",
    "        \n",
    "\n",
    "    def test_answer(self, moves,submission):\n",
    "        length = len(submission)\n",
    "        print(\"answer:\",moves,\"submitted\",submission)\n",
    "        if moves[0:length]==submission:\n",
    "            if length == len(moves):\n",
    "                self.category_counter = self.category_counter + 1\n",
    "                print(\"finished\", \"lives:\",self.lives,\"count:\",self.category_counter)\n",
    "                return \"finished\", \"\" , self.lives , self.category_counter\n",
    "            else:\n",
    "                print(\"correct\")\n",
    "                aux = moves[length:length+4]\n",
    "                aux = aux[:2] + '-' + aux[2:]\n",
    "                return \"correct\", aux , self.lives , self.category_counter\n",
    "        else:\n",
    "            self.lives = self.lives - 1\n",
    "            if self.lives == 0 :\n",
    "                print(\"lost\")\n",
    "                self.lives = 3\n",
    "                self.category_counter = 2\n",
    "                return \"lost\", \"\" , self.lives , self.category_counter\n",
    "            print(\"incorrect\")\n",
    "            return \"incorrect\", \"\" , self.lives , self.category_counter\n",
    "\n",
    "    \n",
    "    def get_puzzle(self):\n",
    "        puzzle = dfModify[dfModify.Category==self.category_counter].sample(1)[['FEN', 'Moves','Rating']].iloc[0]\n",
    "        puzzle.Moves = puzzle.Moves.replace(' ','')\n",
    "        #takes spaces from the string\n",
    "        first_move = puzzle.Moves[0:4]\n",
    "        first_move = first_move[:2] + '-' + first_move[2:]\n",
    "        #prepares the first move\n",
    "        print(\"puzzle\",puzzle.FEN,\"answer\", puzzle.Moves,\"rating\",puzzle.Rating,\"category\", self.category_counter)\n",
    "        return puzzle.FEN, puzzle.Rating, partial(self.test_answer,puzzle.Moves),first_move"
   ]
  },
  {
   "cell_type": "code",
   "execution_count": 11,
   "metadata": {
    "ExecuteTime": {
     "end_time": "2022-05-01T10:03:28.842057Z",
     "start_time": "2022-05-01T10:03:28.824107Z"
    }
   },
   "outputs": [
    {
     "name": "stderr",
     "output_type": "stream",
     "text": [
      "LBCa9x8D005qz0rd5ghDCxxycB4sI2DsvPbe0rEbXz9qWqvO/JD4MG2b6LwLTVmT5X7ko8mbzRM/Z6t7wIM3SQ==: Handshake error\n",
      "Traceback (most recent call last):\n",
      "  File \"/home/sebas/Desktop/telekinesis/python/telekinesis/broker.py\", line 157, in handle_connection\n",
      "    connection = await Connection(websocket).handshake(self.sessions, self.broker_key, self.entrypoint)\n",
      "  File \"/home/sebas/Desktop/telekinesis/python/telekinesis/broker.py\", line 37, in handshake\n",
      "    raise Exception(err_message)\n",
      "Exception: Incompatible version 0.1.24 < 0.1.34\n"
     ]
    },
    {
     "name": "stdout",
     "output_type": "stream",
     "text": [
      "init\n",
      "puzzle 8/1p3p1k/6r1/p1p2KR1/P2pP3/1P1P4/2P5/8 b - - 8 52 answer g6g5f5g5 rating 511 category 1\n",
      "answer: g6g5f5g5 submitted g6g5f5g5\n",
      "finished lives: 3 count: 2\n",
      "puzzle 1r3Qk1/r6p/2p3pB/8/1P1P4/P5RP/q5P1/5RK1 b - - 10 34 answer b8f8f1f8 rating 604 category 2\n",
      "answer: b8f8f1f8 submitted b8f8f1f8\n",
      "finished lives: 3 count: 3\n",
      "puzzle 6k1/1p3pp1/p1r5/3N3p/P2n4/3B1q1P/1P3P2/R3Q1K1 b - - 0 28 answer f3d5e1e8 rating 691 category 3\n",
      "answer: f3d5e1e8 submitted f3d5e1e4\n",
      "incorrect\n",
      "answer: f3d5e1e8 submitted f3d5e1d2\n",
      "incorrect\n",
      "answer: f3d5e1e8 submitted f3d5d3h7\n",
      "lost\n",
      "init\n",
      "puzzle 8/1p3p1k/6r1/p1p2KR1/P2pP3/1P1P4/2P5/8 b - - 8 52 answer g6g5f5g5 rating 511 category 1\n",
      "init\n",
      "puzzle 6k1/5ppq/8/p2r2B1/1p6/5P2/6PP/R3R2K b - - 0 37 answer d5g5e1e8 rating 545 category 1\n",
      "answer: d5g5e1e8 submitted d5g5e1e8\n",
      "finished lives: 3 count: 2\n",
      "puzzle rR5k/6pp/5p2/5qn1/3P4/3NP1P1/5P1P/1R5K b - - 1 35 answer a8b8b1b8f5c8b8c8 rating 600 category 2\n",
      "answer: a8b8b1b8f5c8b8c8 submitted a8b8b1b8\n",
      "correct\n",
      "answer: a8b8b1b8f5c8b8c8 submitted a8b8b1b8f5c8b8c8\n",
      "finished lives: 3 count: 3\n",
      "puzzle 3r1rk1/5np1/4R1p1/R7/2P5/2N5/5PPP/3q2K1 w - - 0 32 answer c3d1d8d1e6e1d1e1 rating 725 category 3\n",
      "answer: c3d1d8d1e6e1d1e1 submitted c3d1d8d1\n",
      "correct\n",
      "answer: c3d1d8d1e6e1d1e1 submitted c3d1d8d1e6e1f7d6\n",
      "incorrect\n",
      "answer: c3d1d8d1e6e1d1e1 submitted c3d1e6e1\n",
      "incorrect\n",
      "init\n",
      "puzzle 6k1/5ppq/8/p2r2B1/1p6/5P2/6PP/R3R2K b - - 0 37 answer d5g5e1e8 rating 545 category 1\n",
      "answer: d5g5e1e8 submitted d5g5e1e8\n",
      "finished lives: 3 count: 2\n",
      "puzzle 5r1k/p5pp/2p5/2Ppq3/1P2pr1P/PR4Q1/6P1/4R1K1 b - - 2 32 answer f4f1e1f1f8f1g1f1 rating 625 category 2\n",
      "answer: f4f1e1f1f8f1g1f1 submitted f4f1g3e5\n",
      "incorrect\n",
      "answer: f4f1e1f1f8f1g1f1 submitted f4f1e1f1\n",
      "correct\n",
      "answer: f4f1e1f1f8f1g1f1 submitted f4f1e1f1f8f1g1f1\n",
      "finished lives: 2 count: 3\n",
      "puzzle 3q3k/p1p3p1/1b1r2Pp/5P2/8/7P/PP6/4QR1K b - - 2 35 answer d8f6e1e8f6f8e8f8 rating 666 category 3\n",
      "answer: d8f6e1e8f6f8e8f8 submitted d8f6e1e8\n",
      "correct\n",
      "answer: d8f6e1e8f6f8e8f8 submitted d8f6e1e8f6f8e8f8\n",
      "finished lives: 2 count: 4\n",
      "puzzle r6r/4kbp1/p3pb1p/1pp5/4N3/PB3R2/1PP3PP/4R1K1 w - - 2 24 answer e4c5f6d4g1h1d4c5f3f7e7f7 rating 826 category 4\n",
      "answer: e4c5f6d4g1h1d4c5f3f7e7f7 submitted e4c5e7d6\n",
      "incorrect\n",
      "answer: e4c5f6d4g1h1d4c5f3f7e7f7 submitted e4c5a6a5\n",
      "lost\n"
     ]
    },
    {
     "name": "stderr",
     "output_type": "stream",
     "text": [
      "LBCa9x8D005qz0rd5ghDCxxycB4sI2DsvPbe0rEbXz9qWqvO/JD4MG2b6LwLTVmT5X7ko8mbzRM/Z6t7wIM3SQ==: Handshake error\n",
      "Traceback (most recent call last):\n",
      "  File \"/home/sebas/miniconda3/lib/python3.9/site-packages/websockets/legacy/protocol.py\", line 535, in recv\n",
      "    await asyncio.wait(\n",
      "  File \"/home/sebas/miniconda3/lib/python3.9/asyncio/tasks.py\", line 413, in wait\n",
      "    return await _wait(fs, timeout, return_when, loop)\n",
      "  File \"/home/sebas/miniconda3/lib/python3.9/asyncio/tasks.py\", line 529, in _wait\n",
      "    await waiter\n",
      "asyncio.exceptions.CancelledError\n",
      "\n",
      "During handling of the above exception, another exception occurred:\n",
      "\n",
      "Traceback (most recent call last):\n",
      "  File \"/home/sebas/miniconda3/lib/python3.9/asyncio/tasks.py\", line 492, in wait_for\n",
      "    fut.result()\n",
      "asyncio.exceptions.CancelledError\n",
      "\n",
      "The above exception was the direct cause of the following exception:\n",
      "\n",
      "Traceback (most recent call last):\n",
      "  File \"/home/sebas/Desktop/telekinesis/python/telekinesis/broker.py\", line 157, in handle_connection\n",
      "    connection = await Connection(websocket).handshake(self.sessions, self.broker_key, self.entrypoint)\n",
      "  File \"/home/sebas/Desktop/telekinesis/python/telekinesis/broker.py\", line 29, in handshake\n",
      "    m = await asyncio.wait_for(self.websocket.recv(), 15)\n",
      "  File \"/home/sebas/miniconda3/lib/python3.9/asyncio/tasks.py\", line 494, in wait_for\n",
      "    raise exceptions.TimeoutError() from exc\n",
      "asyncio.exceptions.TimeoutError\n"
     ]
    }
   ],
   "source": [
    "broker.entrypoint, f = await tk.create_entrypoint(Game)"
   ]
  }
 ],
 "metadata": {
  "kernelspec": {
   "display_name": "Python 3 (ipykernel)",
   "language": "python",
   "name": "python3"
  },
  "language_info": {
   "codemirror_mode": {
    "name": "ipython",
    "version": 3
   },
   "file_extension": ".py",
   "mimetype": "text/x-python",
   "name": "python",
   "nbconvert_exporter": "python",
   "pygments_lexer": "ipython3",
   "version": "3.9.5"
  }
 },
 "nbformat": 4,
 "nbformat_minor": 4
}
